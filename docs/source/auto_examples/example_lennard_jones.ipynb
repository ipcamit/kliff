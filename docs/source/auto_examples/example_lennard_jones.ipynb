{
 "cells": [
  {
   "cell_type": "code",
   "execution_count": null,
   "metadata": {
    "collapsed": false
   },
   "outputs": [],
   "source": [
    "%matplotlib inline"
   ]
  },
  {
   "cell_type": "markdown",
   "metadata": {},
   "source": [
    "\n",
    "\n",
    "# Train a Lennard-Jones potential\n",
    "\n",
    "In this tutorial, we train a Lennard-Jones potential that is build in KLIFF (i.e. not\n",
    "models archived on OpenKIM_). From a user's perspective, a KLIFF built-in model is not\n",
    "different from a KIM model.\n",
    "\n",
    "Compare this with `tut_kim_sw`.\n",
    "\n"
   ]
  },
  {
   "cell_type": "code",
   "execution_count": null,
   "metadata": {
    "collapsed": false
   },
   "outputs": [],
   "source": [
    "from kliff.ase.calculators import Calculator\n",
    "from kliff.dataset import Dataset\n",
    "from kliff.ase.loss import Loss\n",
    "from kliff.models import LennardJones\n",
    "from kliff.utils import download_dataset\n",
    "\n",
    "# training set\n",
    "dataset_path = download_dataset(dataset_name=\"Si_training_set_4_configs\")\n",
    "tset = Dataset(dataset_path)\n",
    "configs = tset.get_configs()\n",
    "\n",
    "# calculator\n",
    "model = LennardJones()\n",
    "model.echo_model_params()\n",
    "\n",
    "# fitting parameters\n",
    "model.set_opt_params(sigma=[[\"default\"]], epsilon=[[\"default\"]])\n",
    "model.echo_opt_params()\n",
    "\n",
    "calc = Calculator(model)\n",
    "calc.create(configs)\n",
    "\n",
    "# loss\n",
    "loss = Loss(calc, nprocs=1)\n",
    "result = loss.minimize(method=\"L-BFGS-B\", options={\"disp\": True, \"maxiter\": 10})\n",
    "\n",
    "\n",
    "# print optimized parameters\n",
    "model.echo_opt_params()\n",
    "model.save(\"kliff_model.yaml\")"
   ]
  }
 ],
 "metadata": {
  "kernelspec": {
   "display_name": "Python 3",
   "language": "python",
   "name": "python3"
  },
  "language_info": {
   "codemirror_mode": {
    "name": "ipython",
    "version": 3
   },
   "file_extension": ".py",
   "mimetype": "text/x-python",
   "name": "python",
   "nbconvert_exporter": "python",
   "pygments_lexer": "ipython3",
   "version": "3.9.12"
  }
 },
 "nbformat": 4,
 "nbformat_minor": 0
}
